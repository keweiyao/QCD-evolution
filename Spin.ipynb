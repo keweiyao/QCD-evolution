{
 "cells": [
  {
   "cell_type": "code",
   "execution_count": 385,
   "id": "5671afe1",
   "metadata": {},
   "outputs": [],
   "source": [
    "import lhapdf\n",
    "import numpy as np\n",
    "import matplotlib.pyplot as plt\n",
    "from scipy.integrate import quad, dblquad\n",
    "import vegas"
   ]
  },
  {
   "cell_type": "code",
   "execution_count": 711,
   "id": "02a7abd2",
   "metadata": {},
   "outputs": [],
   "source": [
    "CF = 4./3.\n",
    "CA = 3.\n",
    "dA = 8.\n",
    "dF = 3.\n",
    "rho0 = 0.17 /5.076**3\n",
    "N = 2\n",
    "Norm = N* np.pi*CF/dA * rho0\n",
    "L2 = 0.2**2\n",
    "mu2 = L2*1.0\n",
    "r0 = 1.12*5.076\n",
    "@np.vectorize\n",
    "def alphas(q2):\n",
    "    return 4*np.pi/9./np.log(np.max([q2/L2,np.e]))"
   ]
  },
  {
   "cell_type": "code",
   "execution_count": null,
   "id": "c1a2ed0a",
   "metadata": {},
   "outputs": [],
   "source": []
  },
  {
   "cell_type": "code",
   "execution_count": 712,
   "id": "89c5ab9e",
   "metadata": {},
   "outputs": [],
   "source": [
    "def Tphig(q2):\n",
    "    return Norm*alphas(q2)/(q2+L2)  \n",
    "\n",
    "#qhat\n",
    "def qhat(Q2):\n",
    "    return quad(Tphig, 0., Q2)[0]"
   ]
  },
  {
   "cell_type": "code",
   "execution_count": 713,
   "id": "97996bad",
   "metadata": {},
   "outputs": [
    {
     "name": "stdout",
     "output_type": "stream",
     "text": [
      "qhat_F(Q=2 GeV) = 0.031 GeV2/fm\n"
     ]
    }
   ],
   "source": [
    "A=208\n",
    "print(\"qhat_F(Q=2 GeV) = {:1.3f} GeV2/fm\".format(qhat(2*82)*5.076))"
   ]
  },
  {
   "cell_type": "code",
   "execution_count": 714,
   "id": "443d9980",
   "metadata": {},
   "outputs": [],
   "source": [
    "def Rad_GB(x, k2, q2, phi):\n",
    "    mu2 = L2\n",
    "    qx = np.sqrt(q2)\n",
    "    qy = 0.\n",
    "    k = np.sqrt(k2)\n",
    "    kx = k*np.cos(phi)\n",
    "    ky = k*np.sin(phi)\n",
    "    # A\n",
    "    Ax = kx - qx\n",
    "    Ay = ky - qy\n",
    "    A2 = Ax**2 + Ay**2 + mu2\n",
    "    Ax /= A2\n",
    "    Ay /= A2\n",
    "    # B\n",
    "    Bx = kx - x*qx\n",
    "    By = ky - x*qy\n",
    "    B2 = Bx**2 + By**2 + mu2\n",
    "    Bx /= B2\n",
    "    By /= B2    \n",
    "    # C\n",
    "    Cx = kx/(k2 + mu2)\n",
    "    Cy = ky/(k2 + mu2)\n",
    "    \n",
    "    # M2\n",
    "    M11 = (Ax-Bx)**2 + (Ay-By)**2\n",
    "    M22 = (Ax-Cx)**2 + (Ay-Cy)**2\n",
    "    M12 = (Ax-Bx)*(Ax-Cx) + (Ay-By)*(Ay-Cy)\n",
    "    \n",
    "    return (M11*CF + M22*CF + (CA-2*CF)*M12)"
   ]
  },
  {
   "cell_type": "code",
   "execution_count": 749,
   "id": "2f7087bc",
   "metadata": {},
   "outputs": [],
   "source": [
    "xQ = 0.5\n",
    "EP = 100*np.sqrt(2)\n",
    "Ep = EP * xQ\n",
    "def xdep(x):\n",
    "    return 1\n",
    "\n",
    "def Phi(a,b,c,d,L):\n",
    "    return xdep((a+c)/2.) * np.cos(L*(a-c))\\\n",
    "         + xdep((b+d)/2.) * np.cos(L*(b-d))\\\n",
    "         - xdep((a+d)/2.) * np.cos(L*(a-d))\\\n",
    "         - xdep((b+c)/2.) * np.cos(L*(b-c))\n",
    "\n",
    "def Rad_Fs(x, k2, q2, phi):\n",
    "    mu2 = L2\n",
    "    qx = np.sqrt(q2)\n",
    "    qy = 0.\n",
    "    k = np.sqrt(k2)\n",
    "    kx = k*np.cos(phi)\n",
    "    ky = k*np.sin(phi)\n",
    "    Q12 = k2\n",
    "    Q22 = (kx-x*qx)**2 + (ky-x*qy)**2 \n",
    "    Q32 = (kx-qx)**2 + (ky-qy)**2 \n",
    "    G1x = kx/Q12\n",
    "    G1y = ky/Q12\n",
    "    G2x = (kx-x*qx)/Q22\n",
    "    G2y = (ky-x*qy)/Q22\n",
    "    G3x = (kx-qx)/Q32\n",
    "    G3y = (ky-qy)/Q32   \n",
    "    \n",
    "    \n",
    "    E0 = 2*x*(1-x)*Ep\n",
    "    x1 = (Q32-Q12)/2/(1-x)/Ep\n",
    "    x2 = q2/2/Ep\n",
    "    x3 = (Q12-Q32)/2/x/Ep\n",
    "    y1 = Q12/E0\n",
    "    y2 = Q22/E0\n",
    "    y3 = Q32/E0\n",
    "    \n",
    "    \n",
    "    return CA*( \n",
    "                  (G3x**2+G3y**2)  * Phi(x3, x3+y3, x3, x3+y3, Lavg)\n",
    "                - (G1x*G3x+G1y*G3y)* Phi(x1, x1+y1, x3, x3+y3, Lavg)\n",
    "                - (G2x*G3x+G2y*G3y)* Phi(x2, x2+y2, x3, x3+y3, Lavg) \n",
    "               ) \\\n",
    "        +  CF*( \n",
    "                  (G1x**2+G1y**2)  * Phi(x1, x1+y1, x1, x1+y1, Lavg)\n",
    "                + (G2x**2+G2y**2)  * Phi(x2, x2+y2, x2, x2+y2, Lavg) \n",
    "               ) \\\n",
    "        + (CA-2*CF)*(G1x*G2x+G1y*G2y)* Phi(x1, x1+y1, x2, x2+y2, Lavg)\n"
   ]
  },
  {
   "cell_type": "code",
   "execution_count": 750,
   "id": "cd19e07c",
   "metadata": {},
   "outputs": [],
   "source": [
    "def dN(X):\n",
    "    x = 1.-xq\n",
    "    lnk2, lnq2, phi = X\n",
    "    q2 = np.exp(lnq2)\n",
    "    k2 = np.exp(lnk2)\n",
    "    return Lavg * Tphig(q2)/q2 * alphas(k2)/2/np.pi**2 * x/2.\\\n",
    "           * Rad_Fs(x, k2, q2, phi) * q2 * k2"
   ]
  },
  {
   "cell_type": "code",
   "execution_count": 751,
   "id": "81b9c58d",
   "metadata": {},
   "outputs": [],
   "source": [
    "pTmax = 5\n",
    "integ = vegas.Integrator([[np.log(.01**2), np.log(pTmax**2)],\n",
    "                          [np.log(.01**2), np.log(pTmax**2)],\n",
    "                          [0, 2*np.pi]])\n",
    "\n"
   ]
  },
  {
   "cell_type": "code",
   "execution_count": null,
   "id": "548c81b6",
   "metadata": {},
   "outputs": [],
   "source": []
  },
  {
   "cell_type": "code",
   "execution_count": 752,
   "id": "7f37e032",
   "metadata": {},
   "outputs": [
    {
     "name": "stderr",
     "output_type": "stream",
     "text": [
      "/tmp/ipykernel_28384/2347083863.py:19: MatplotlibDeprecationWarning: Passing the pad parameter of tight_layout() positionally is deprecated since Matplotlib 3.3; the parameter will become keyword-only two minor releases later.\n",
      "  plt.tight_layout(True)\n"
     ]
    },
    {
     "data": {
      "image/png": "[encoded data removed]",
      "text/plain": [
       "<Figure size 288x252 with 1 Axes>"
      ]
     },
     "metadata": {
      "needs_background": "light"
     },
     "output_type": "display_data"
    }
   ],
   "source": [
    "fig, ax = plt.subplots(figsize=(4,3.5), ncols=1, nrows=1, sharex=True, sharey=True)\n",
    "for xq, c in zip([0.2, 0.5, .8], 'rgb'):\n",
    "    As = [1, 4, 27, 64, 208]\n",
    "    Y = []\n",
    "    for A in As:\n",
    "        Lavg = (A**(1./3.)-1)*r0*1.5\n",
    "        delta = integ(dN, nitn=5, neval=2000).val\n",
    "        Y.append(1-2*delta)\n",
    "\n",
    "    ax.plot(As, Y, color=c, label=r\"$x_q={:1.1f}$\".format(xq), alpha=.7, lw=1.5)\n",
    "ax.set_xlabel(r\"A\", fontsize=15)\n",
    "\n",
    "#ax.set_title(r\"$x_q={:1.1f}$\".format(xq), fontsize=15)\n",
    "ax.set_ylabel(r\"$e^{-2\\Delta}$\", fontsize=15)\n",
    "ax.semilogx()\n",
    "\n",
    "ax.legend()\n",
    "ax.set_ylim(0,1.2)\n",
    "plt.tight_layout(True)\n",
    "plt.subplots_adjust(wspace=0)\n",
    "plt.savefig(\"mu2-A.png\", dpi=300)"
   ]
  },
  {
   "cell_type": "code",
   "execution_count": null,
   "id": "36f78e2b",
   "metadata": {},
   "outputs": [],
   "source": []
  },
  {
   "cell_type": "code",
   "execution_count": 11,
   "id": "86910396",
   "metadata": {},
   "outputs": [],
   "source": [
    "# Collins frag"
   ]
  },
  {
   "cell_type": "code",
   "execution_count": 365,
   "id": "385f3f3e",
   "metadata": {},
   "outputs": [],
   "source": [
    "g = 4.78\n",
    "mq = 0.3\n",
    "mg = 0.\n",
    "ms = 0.792\n",
    "mpi = 0.137\n",
    "Const = g**2/8./np.pi**2\n",
    "alpha=0.5\n",
    "beta=0\n",
    "alphas0 = 0.2\n",
    "# inclusive\n",
    "@np.vectorize\n",
    "def k2(z, kT2):\n",
    "    return z*kT2/(1-z) + ms**2/(1-z) + mpi**2/z\n",
    "@np.vectorize\n",
    "def l2(z):\n",
    "    return (1.-z)/z**2*mpi**2 + mq**2 + (ms**2 - mq**2)/z\n",
    "@np.vectorize\n",
    "def Lambda2(z):\n",
    "    return 3.33**2*z**alpha*(1-z)**beta\n",
    "@np.vectorize\n",
    "def Kallen(k2, m1, m2):\n",
    "    return (k2-(m1+m2)**2) * (k2-(m1-m2)**2)\n",
    "@np.vectorize\n",
    "def D1(z, kT2):\n",
    "    return Const/np.pi/z**2*np.exp(-2*k2(z, kT2)/Lambda2(z)) * (z**2*kT2 + (z*mq+ms-mq)**2)/z**3/(kT2+l2(z))**2\n",
    "@np.vectorize\n",
    "def D1i(z):\n",
    "    return np.pi*z**2*quad(lambda kT2: D1(z, kT2), 0, 100)[0]\n",
    "\n",
    "# H1\n",
    "@np.vectorize\n",
    "def I1g(k20):\n",
    "    return np.pi*np.sqrt(Kallen(k20, mq, mg))/2/k20\n",
    "@np.vectorize\n",
    "def I2g(k20):\n",
    "    sK = np.sqrt(Kallen(k20, ms, mpi))\n",
    "    A0 = k20+ms**2-mpi**2-sK\n",
    "    B0 = k20+ms**2-mpi**2+sK\n",
    "    return np.pi/2/sK * np.log(A0/B0)\n",
    "@np.vectorize\n",
    "def I34g(z, k20):\n",
    "    return np.pi*np.log(np.sqrt(k20)*(1-z)/ms)\n",
    "@np.vectorize\n",
    "def Ha(z, kT2):\n",
    "    k20 = k2(z, kT2)\n",
    "    return mq**2/(k20-mq**2) * (3. - mq**2/k20) * I1g(k20)\n",
    "@np.vectorize\n",
    "def Hb(z, kT2):\n",
    "    k20 = k2(z, kT2)\n",
    "    return 2*ms * I2g(k20)\n",
    "@np.vectorize\n",
    "def Hd(z, kT2):\n",
    "    k20 = k2(z, kT2)\n",
    "    return 1./(2.*z*kT2) * (\n",
    "        - I34g(z,k20) * (2*z*mq+ms-mq)\n",
    "        + I2g(k20) * (  2*z*mq*(k20-mq**2+mpi**2*(1.-2./z))\n",
    "                   + (ms-mq)*((2*z-1)*k20 -mpi**2 + ms**2 -2*z*mq*(mq+ms) )\n",
    "                  )\n",
    "    )\n",
    "@np.vectorize\n",
    "def H1(z, kT2):\n",
    "    k20 = k2(z, kT2)\n",
    "    return - alphas0/np.pi * Const/np.pi/z**2*np.exp(-2*k20/Lambda2(z))\\\n",
    "           * mpi/(1-z)/(k20-mq**2) * (Ha(z, kT2)+Hb(z, kT2)+Hd(z, kT2))\n",
    "\n",
    "@np.vectorize\n",
    "def H1i(z):\n",
    "    return np.pi*z**2*quad(lambda kT2: H1(z, kT2)/2/mpi*np.sqrt(kT2), 0, 100)[0]"
   ]
  },
  {
   "cell_type": "code",
   "execution_count": null,
   "id": "ce1f3e91",
   "metadata": {},
   "outputs": [],
   "source": []
  },
  {
   "cell_type": "code",
   "execution_count": 366,
   "id": "1841c06b",
   "metadata": {},
   "outputs": [],
   "source": [
    "z = np.linspace(1e-1,1-1e-1,11)"
   ]
  },
  {
   "cell_type": "code",
   "execution_count": 382,
   "id": "97d21241",
   "metadata": {},
   "outputs": [
    {
     "data": {
      "text/plain": [
       "[<matplotlib.lines.Line2D at 0x7fe179947c10>]"
      ]
     },
     "execution_count": 382,
     "metadata": {},
     "output_type": "execute_result"
    },
    {
     "data": {
      "image/png": "[encoded data removed]",
      "text/plain": [
       "<Figure size 432x288 with 1 Axes>"
      ]
     },
     "metadata": {
      "needs_background": "light"
     },
     "output_type": "display_data"
    }
   ],
   "source": [
    "kT2 = 10\n",
    "D = z*D1i(z)\n",
    "H = z*H1i(z)\n",
    "plt.plot(z, D, 'k-')\n",
    "plt.plot(z, H, 'k--')"
   ]
  },
  {
   "cell_type": "code",
   "execution_count": 363,
   "id": "470c806f",
   "metadata": {},
   "outputs": [],
   "source": [
    "def D1_in_medium(xF,pT2):\n",
    "    def df(X):\n",
    "        x, lnk2, lnq2, phi_kq, phi_kp = X\n",
    "        q2 = np.exp(lnq2)\n",
    "        k2 = np.exp(lnk2)\n",
    "        zF = xF/(1.-x) # 0<x<1-xF\n",
    "        w2 = pT2+q2+k2\\\n",
    "           + 2*np.sqrt(pT2*k2)*np.cos(phi_kp) \\\n",
    "           - 2*np.sqrt(pT2*q2)*np.cos(phi_kq-phi_kp) \\\n",
    "           - 2*np.sqrt(k2*q2)*np.cos(phi_kq) \\\n",
    "           \n",
    "        d1 = H1(zF, w2/zF**2)\n",
    "        GB = Lavg * Tphig(q2)/q2 * alphas(k2)/2/np.pi**2 * (1+(1-x)**2)/x * Rad(x, k2, q2, phi_kq) * k2 * q2\n",
    "        return d1 * GB\n",
    "    integ = vegas.Integrator([[0,1.-xF],\n",
    "                              [np.log(mu2/100), np.log(10**2)],\n",
    "                              [np.log(mu2/100), np.log(10**2)],\n",
    "                              [0, 2*np.pi],\n",
    "                              [0, 2*np.pi]])\n",
    "    res = integ(df, nitn=5, neval=4000)\n",
    "    return res.val\n",
    "\n",
    "def H1_in_medium(xF,pT2):\n",
    "    def df(X):\n",
    "        x, lnk2, lnq2, phi_kq, phi_kp = X\n",
    "        q2 = np.exp(lnq2)\n",
    "        k2 = np.exp(lnk2)\n",
    "        zF = xF/(1.-x) # 0<x<1-xF\n",
    "        w2 = pT2+q2+k2\\\n",
    "           + 2*np.sqrt(pT2*k2)*np.cos(phi_kp) \\\n",
    "           - 2*np.sqrt(pT2*q2)*np.cos(phi_kq-phi_kp) \\\n",
    "           - 2*np.sqrt(k2*q2)*np.cos(phi_kq) \\\n",
    "           \n",
    "        d1 = H1(zF, w2/zF**2)\n",
    "        GB = Lavg * Tphig(q2)/q2 * alphas(k2)/2/np.pi**2 * x/2 * Rad(x, k2, q2, phi_kq) * k2 * q2\n",
    "        return d1*GB\n",
    "    integ = vegas.Integrator([[0,1.-xF],\n",
    "                              [np.log(mu2/100), np.log(10**2)],\n",
    "                              [np.log(mu2/100), np.log(10**2)],\n",
    "                              [0, 2*np.pi],\n",
    "                              [0, 2*np.pi]])\n",
    "    res = integ(df, nitn=5, neval=4000)\n",
    "    return res.val"
   ]
  },
  {
   "cell_type": "code",
   "execution_count": 367,
   "id": "e6d7b73e",
   "metadata": {},
   "outputs": [],
   "source": [
    "pT2 = 2**2\n",
    "A=2\n",
    "Lavg = (A**(1./3.)-1)*r0*1.5\n",
    "z = np.linspace(1e-1,1-1e-1,11)\n",
    "dz = z[1]-z[0]\n",
    "\n",
    "Dp = np.array([D1_in_medium(iz,pT2) for iz in z])\n",
    "Hp = np.array([H1_in_medium(iz,pT2) for iz in z])\n"
   ]
  },
  {
   "cell_type": "code",
   "execution_count": 368,
   "id": "48c33b61",
   "metadata": {},
   "outputs": [],
   "source": [
    "pT2 = 2**2\n",
    "A=208\n",
    "Lavg = (A**(1./3.)-1)*r0*1.5\n",
    "z = np.linspace(1e-1,1-1e-1,11)\n",
    "dz = z[1]-z[0]\n",
    "DA = np.array([D1_in_medium(iz,pT2) for iz in z])\n",
    "HA = np.array([H1_in_medium(iz,pT2) for iz in z])\n"
   ]
  },
  {
   "cell_type": "code",
   "execution_count": null,
   "id": "b9210ee6",
   "metadata": {},
   "outputs": [],
   "source": []
  },
  {
   "cell_type": "code",
   "execution_count": 373,
   "id": "93e66c6a",
   "metadata": {},
   "outputs": [
    {
     "data": {
      "text/plain": [
       "[<matplotlib.lines.Line2D at 0x7fe1797069d0>]"
      ]
     },
     "execution_count": 373,
     "metadata": {},
     "output_type": "execute_result"
    },
    {
     "data": {
      "image/png": "[encoded data removed]",
      "text/plain": [
       "<Figure size 432x288 with 1 Axes>"
      ]
     },
     "metadata": {
      "needs_background": "light"
     },
     "output_type": "display_data"
    }
   ],
   "source": [
    "plt.plot(z, (1-2*Hp/Dp), 'k-')\n",
    "plt.plot(z, (1-2*HA/Dp), 'k--')"
   ]
  },
  {
   "cell_type": "code",
   "execution_count": 374,
   "id": "13679f36",
   "metadata": {},
   "outputs": [
    {
     "data": {
      "text/plain": [
       "(0.0, 1.0)"
      ]
     },
     "execution_count": 374,
     "metadata": {},
     "output_type": "execute_result"
    },
    {
     "data": {
      "image/png": "[encoded data removed]",
      "text/plain": [
       "<Figure size 432x288 with 1 Axes>"
      ]
     },
     "metadata": {
      "needs_background": "light"
     },
     "output_type": "display_data"
    }
   ],
   "source": [
    "plt.plot(z, (1-2*HA/Dp)/(1-2*Hp/Dp), 'k--')\n",
    "plt.ylim(0,1)"
   ]
  },
  {
   "cell_type": "code",
   "execution_count": null,
   "id": "b3e7a360",
   "metadata": {},
   "outputs": [],
   "source": []
  },
  {
   "cell_type": "code",
   "execution_count": 371,
   "id": "d0177687",
   "metadata": {},
   "outputs": [],
   "source": [
    "pT2 = 2**2\n",
    "A=208\n",
    "Lavg = (A**(1./3.)-1)*r0*1.5\n",
    "z = np.linspace(1e-1,1-1e-1,11)\n",
    "dz = z[1]-z[0]\n"
   ]
  },
  {
   "cell_type": "code",
   "execution_count": null,
   "id": "c5ebf666",
   "metadata": {},
   "outputs": [],
   "source": []
  }
 ],
 "metadata": {
  "kernelspec": {
   "display_name": "Python 3 (ipykernel)",
   "language": "python",
   "name": "python3"
  },
  "language_info": {
   "codemirror_mode": {
    "name": "ipython",
    "version": 3
   },
   "file_extension": ".py",
   "mimetype": "text/x-python",
   "name": "python",
   "nbconvert_exporter": "python",
   "pygments_lexer": "ipython3",
   "version": "3.9.5"
  }
 },
 "nbformat": 4,
 "nbformat_minor": 5
}
